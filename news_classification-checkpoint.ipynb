{
 "cells": [
  {
   "cell_type": "code",
   "execution_count": 1,
   "metadata": {
    "colab": {
     "base_uri": "https://localhost:8080/"
    },
    "executionInfo": {
     "elapsed": 11,
     "status": "ok",
     "timestamp": 1639158031327,
     "user": {
      "displayName": "Ankit Patil",
      "photoUrl": "https://lh3.googleusercontent.com/a-/AOh14Ggk6dWpL4IGy9ylcF89aXjHQSmdSPHl12OINv0-GQ=s64",
      "userId": "11836196809260746093"
     },
     "user_tz": -330
    },
    "id": "iZV08pHmM5NM",
    "outputId": "8034e9dd-92d9-4202-bfea-3a9cea13dedd"
   },
   "outputs": [
    {
     "name": "stderr",
     "output_type": "stream",
     "text": [
      "[nltk_data] Downloading package punkt to\n",
      "[nltk_data]     C:\\Users\\sangi\\AppData\\Roaming\\nltk_data...\n",
      "[nltk_data]   Package punkt is already up-to-date!\n",
      "[nltk_data] Downloading package stopwords to\n",
      "[nltk_data]     C:\\Users\\sangi\\AppData\\Roaming\\nltk_data...\n",
      "[nltk_data]   Package stopwords is already up-to-date!\n",
      "[nltk_data] Downloading package wordnet to\n",
      "[nltk_data]     C:\\Users\\sangi\\AppData\\Roaming\\nltk_data...\n",
      "[nltk_data]   Package wordnet is already up-to-date!\n"
     ]
    }
   ],
   "source": [
    "import numpy as np\n",
    "import pandas as pd\n",
    "import matplotlib.pyplot as plt\n",
    "import seaborn as sns\n",
    "\n",
    "import warnings\n",
    "warnings.filterwarnings(\"ignore\")\n",
    "\n",
    "import nltk\n",
    "from nltk.tokenize import word_tokenize\n",
    "nltk.download(\"punkt\")\n",
    "\n",
    "from nltk.corpus import stopwords\n",
    "nltk.download(\"stopwords\")\n",
    "\n",
    "from nltk.stem import WordNetLemmatizer\n",
    "nltk.download('wordnet')\n",
    "\n",
    "from sklearn.feature_extraction.text import CountVectorizer\n",
    "from sklearn.ensemble import RandomForestClassifier\n",
    "from sklearn.metrics import classification_report"
   ]
  },
  {
   "cell_type": "code",
   "execution_count": 2,
   "metadata": {
    "executionInfo": {
     "elapsed": 433,
     "status": "ok",
     "timestamp": 1639158048901,
     "user": {
      "displayName": "Ankit Patil",
      "photoUrl": "https://lh3.googleusercontent.com/a-/AOh14Ggk6dWpL4IGy9ylcF89aXjHQSmdSPHl12OINv0-GQ=s64",
      "userId": "11836196809260746093"
     },
     "user_tz": -330
    },
    "id": "NpUzGltfbp9A"
   },
   "outputs": [],
   "source": [
    "df = pd.read_csv(\"news.csv\")"
   ]
  },
  {
   "cell_type": "code",
   "execution_count": 3,
   "metadata": {
    "colab": {
     "base_uri": "https://localhost:8080/",
     "height": 258
    },
    "executionInfo": {
     "elapsed": 405,
     "status": "ok",
     "timestamp": 1639158057112,
     "user": {
      "displayName": "Ankit Patil",
      "photoUrl": "https://lh3.googleusercontent.com/a-/AOh14Ggk6dWpL4IGy9ylcF89aXjHQSmdSPHl12OINv0-GQ=s64",
      "userId": "11836196809260746093"
     },
     "user_tz": -330
    },
    "id": "JvRdZI7QbuRd",
    "outputId": "2c8b1927-55d6-4b92-dae4-97d3ffa9bddc"
   },
   "outputs": [
    {
     "data": {
      "text/html": [
       "<div>\n",
       "<style scoped>\n",
       "    .dataframe tbody tr th:only-of-type {\n",
       "        vertical-align: middle;\n",
       "    }\n",
       "\n",
       "    .dataframe tbody tr th {\n",
       "        vertical-align: top;\n",
       "    }\n",
       "\n",
       "    .dataframe thead th {\n",
       "        text-align: right;\n",
       "    }\n",
       "</style>\n",
       "<table border=\"1\" class=\"dataframe\">\n",
       "  <thead>\n",
       "    <tr style=\"text-align: right;\">\n",
       "      <th></th>\n",
       "      <th>Unnamed: 0</th>\n",
       "      <th>title</th>\n",
       "      <th>text</th>\n",
       "      <th>label</th>\n",
       "    </tr>\n",
       "  </thead>\n",
       "  <tbody>\n",
       "    <tr>\n",
       "      <th>0</th>\n",
       "      <td>8476</td>\n",
       "      <td>You Can Smell Hillary’s Fear</td>\n",
       "      <td>Daniel Greenfield, a Shillman Journalism Fello...</td>\n",
       "      <td>FAKE</td>\n",
       "    </tr>\n",
       "    <tr>\n",
       "      <th>1</th>\n",
       "      <td>10294</td>\n",
       "      <td>Watch The Exact Moment Paul Ryan Committed Pol...</td>\n",
       "      <td>Google Pinterest Digg Linkedin Reddit Stumbleu...</td>\n",
       "      <td>FAKE</td>\n",
       "    </tr>\n",
       "    <tr>\n",
       "      <th>2</th>\n",
       "      <td>3608</td>\n",
       "      <td>Kerry to go to Paris in gesture of sympathy</td>\n",
       "      <td>U.S. Secretary of State John F. Kerry said Mon...</td>\n",
       "      <td>REAL</td>\n",
       "    </tr>\n",
       "    <tr>\n",
       "      <th>3</th>\n",
       "      <td>10142</td>\n",
       "      <td>Bernie supporters on Twitter erupt in anger ag...</td>\n",
       "      <td>— Kaydee King (@KaydeeKing) November 9, 2016 T...</td>\n",
       "      <td>FAKE</td>\n",
       "    </tr>\n",
       "    <tr>\n",
       "      <th>4</th>\n",
       "      <td>875</td>\n",
       "      <td>The Battle of New York: Why This Primary Matters</td>\n",
       "      <td>It's primary day in New York and front-runners...</td>\n",
       "      <td>REAL</td>\n",
       "    </tr>\n",
       "  </tbody>\n",
       "</table>\n",
       "</div>"
      ],
      "text/plain": [
       "   Unnamed: 0                                              title  \\\n",
       "0        8476                       You Can Smell Hillary’s Fear   \n",
       "1       10294  Watch The Exact Moment Paul Ryan Committed Pol...   \n",
       "2        3608        Kerry to go to Paris in gesture of sympathy   \n",
       "3       10142  Bernie supporters on Twitter erupt in anger ag...   \n",
       "4         875   The Battle of New York: Why This Primary Matters   \n",
       "\n",
       "                                                text label  \n",
       "0  Daniel Greenfield, a Shillman Journalism Fello...  FAKE  \n",
       "1  Google Pinterest Digg Linkedin Reddit Stumbleu...  FAKE  \n",
       "2  U.S. Secretary of State John F. Kerry said Mon...  REAL  \n",
       "3  — Kaydee King (@KaydeeKing) November 9, 2016 T...  FAKE  \n",
       "4  It's primary day in New York and front-runners...  REAL  "
      ]
     },
     "execution_count": 3,
     "metadata": {},
     "output_type": "execute_result"
    }
   ],
   "source": [
    "df.head()"
   ]
  },
  {
   "cell_type": "code",
   "execution_count": 4,
   "metadata": {
    "colab": {
     "base_uri": "https://localhost:8080/"
    },
    "executionInfo": {
     "elapsed": 398,
     "status": "ok",
     "timestamp": 1639158067115,
     "user": {
      "displayName": "Ankit Patil",
      "photoUrl": "https://lh3.googleusercontent.com/a-/AOh14Ggk6dWpL4IGy9ylcF89aXjHQSmdSPHl12OINv0-GQ=s64",
      "userId": "11836196809260746093"
     },
     "user_tz": -330
    },
    "id": "UaGkIKafbwIG",
    "outputId": "776a8a1b-e827-4d9b-a54a-d3024e27ac7c"
   },
   "outputs": [
    {
     "name": "stdout",
     "output_type": "stream",
     "text": [
      "<class 'pandas.core.frame.DataFrame'>\n",
      "RangeIndex: 6335 entries, 0 to 6334\n",
      "Data columns (total 4 columns):\n",
      " #   Column      Non-Null Count  Dtype \n",
      "---  ------      --------------  ----- \n",
      " 0   Unnamed: 0  6335 non-null   int64 \n",
      " 1   title       6335 non-null   object\n",
      " 2   text        6335 non-null   object\n",
      " 3   label       6335 non-null   object\n",
      "dtypes: int64(1), object(3)\n",
      "memory usage: 198.1+ KB\n"
     ]
    }
   ],
   "source": [
    "df.info()\n"
   ]
  },
  {
   "cell_type": "code",
   "execution_count": 5,
   "metadata": {
    "colab": {
     "base_uri": "https://localhost:8080/"
    },
    "executionInfo": {
     "elapsed": 420,
     "status": "ok",
     "timestamp": 1639158079745,
     "user": {
      "displayName": "Ankit Patil",
      "photoUrl": "https://lh3.googleusercontent.com/a-/AOh14Ggk6dWpL4IGy9ylcF89aXjHQSmdSPHl12OINv0-GQ=s64",
      "userId": "11836196809260746093"
     },
     "user_tz": -330
    },
    "id": "wFA54GyDbyu2",
    "outputId": "2ab9c020-b385-4fe0-da08-a03221af21b2"
   },
   "outputs": [
    {
     "data": {
      "text/plain": [
       "REAL    3171\n",
       "FAKE    3164\n",
       "Name: label, dtype: int64"
      ]
     },
     "execution_count": 5,
     "metadata": {},
     "output_type": "execute_result"
    }
   ],
   "source": [
    "df['label'].value_counts()\n"
   ]
  },
  {
   "cell_type": "code",
   "execution_count": 6,
   "metadata": {
    "executionInfo": {
     "elapsed": 374,
     "status": "ok",
     "timestamp": 1639158098329,
     "user": {
      "displayName": "Ankit Patil",
      "photoUrl": "https://lh3.googleusercontent.com/a-/AOh14Ggk6dWpL4IGy9ylcF89aXjHQSmdSPHl12OINv0-GQ=s64",
      "userId": "11836196809260746093"
     },
     "user_tz": -330
    },
    "id": "E7PqtD-xb1z1"
   },
   "outputs": [],
   "source": [
    "def cleantext(text):\n",
    "  token = word_tokenize(text.lower())\n",
    "  ftoken = [t for t in token if (t.isalpha())]\n",
    "  \n",
    "  stopword = stopwords.words(\"english\")\n",
    "  ctoken = [t for t in ftoken if (t not in stopword )]\n",
    "  \n",
    "  lemma = WordNetLemmatizer()\n",
    "  ltoken = [lemma.lemmatize(t) for t in ctoken]\n",
    "  \n",
    "  return \" \".join (ltoken)"
   ]
  },
  {
   "cell_type": "code",
   "execution_count": 7,
   "metadata": {
    "executionInfo": {
     "elapsed": 65599,
     "status": "ok",
     "timestamp": 1639158186970,
     "user": {
      "displayName": "Ankit Patil",
      "photoUrl": "https://lh3.googleusercontent.com/a-/AOh14Ggk6dWpL4IGy9ylcF89aXjHQSmdSPHl12OINv0-GQ=s64",
      "userId": "11836196809260746093"
     },
     "user_tz": -330
    },
    "id": "BXJe3wx9b6Wn"
   },
   "outputs": [],
   "source": [
    "df[\"text\"] = df[\"text\"].apply(cleantext)\n"
   ]
  },
  {
   "cell_type": "code",
   "execution_count": 8,
   "metadata": {
    "colab": {
     "base_uri": "https://localhost:8080/"
    },
    "executionInfo": {
     "elapsed": 9,
     "status": "ok",
     "timestamp": 1639158188314,
     "user": {
      "displayName": "Ankit Patil",
      "photoUrl": "https://lh3.googleusercontent.com/a-/AOh14Ggk6dWpL4IGy9ylcF89aXjHQSmdSPHl12OINv0-GQ=s64",
      "userId": "11836196809260746093"
     },
     "user_tz": -330
    },
    "id": "z23m0bFDcAEx",
    "outputId": "71144616-7256-42dc-c606-8b0016a53da2"
   },
   "outputs": [
    {
     "data": {
      "text/plain": [
       "0       daniel greenfield shillman journalism fellow f...\n",
       "1       google pinterest digg linkedin reddit stumbleu...\n",
       "2       secretary state john kerry said monday stop pa...\n",
       "3       kaydee king kaydeeking november lesson tonight...\n",
       "4       primary day new york hillary clinton donald tr...\n",
       "                              ...                        \n",
       "6330    state department told republican national comm...\n",
       "6331    p pb stand plutocratic pentagon posted oct wik...\n",
       "6332    protester tool oligarchy always provokes rage ...\n",
       "6333    addis ababa ethiopia obama convened meeting le...\n",
       "6334    jeb bush suddenly attacking trump matter jeb b...\n",
       "Name: text, Length: 6335, dtype: object"
      ]
     },
     "execution_count": 8,
     "metadata": {},
     "output_type": "execute_result"
    }
   ],
   "source": [
    "df[\"text\"]"
   ]
  },
  {
   "cell_type": "code",
   "execution_count": 9,
   "metadata": {
    "executionInfo": {
     "elapsed": 415,
     "status": "ok",
     "timestamp": 1639158191142,
     "user": {
      "displayName": "Ankit Patil",
      "photoUrl": "https://lh3.googleusercontent.com/a-/AOh14Ggk6dWpL4IGy9ylcF89aXjHQSmdSPHl12OINv0-GQ=s64",
      "userId": "11836196809260746093"
     },
     "user_tz": -330
    },
    "id": "xhxoNgYHcBwK"
   },
   "outputs": [],
   "source": [
    "x = df[\"text\"]\n",
    "y= df[\"label\"]"
   ]
  },
  {
   "cell_type": "code",
   "execution_count": 10,
   "metadata": {
    "colab": {
     "base_uri": "https://localhost:8080/"
    },
    "executionInfo": {
     "elapsed": 5023,
     "status": "ok",
     "timestamp": 1639158209254,
     "user": {
      "displayName": "Ankit Patil",
      "photoUrl": "https://lh3.googleusercontent.com/a-/AOh14Ggk6dWpL4IGy9ylcF89aXjHQSmdSPHl12OINv0-GQ=s64",
      "userId": "11836196809260746093"
     },
     "user_tz": -330
    },
    "id": "X_jy68KacQ7g",
    "outputId": "72ad5abd-ec2c-4aca-ed50-d3b203185d13"
   },
   "outputs": [
    {
     "data": {
      "text/plain": [
       "array([[0, 0, 0, ..., 0, 0, 0],\n",
       "       [0, 0, 0, ..., 0, 0, 0],\n",
       "       [0, 0, 0, ..., 0, 0, 0],\n",
       "       ...,\n",
       "       [0, 0, 0, ..., 0, 0, 0],\n",
       "       [0, 0, 0, ..., 0, 0, 0],\n",
       "       [0, 0, 0, ..., 0, 0, 0]], dtype=int64)"
      ]
     },
     "execution_count": 10,
     "metadata": {},
     "output_type": "execute_result"
    }
   ],
   "source": [
    "cv = CountVectorizer()\n",
    "x=cv.fit_transform(x).toarray()\n",
    "x"
   ]
  },
  {
   "cell_type": "code",
   "execution_count": null,
   "metadata": {
    "executionInfo": {
     "elapsed": 1469,
     "status": "ok",
     "timestamp": 1639158224433,
     "user": {
      "displayName": "Ankit Patil",
      "photoUrl": "https://lh3.googleusercontent.com/a-/AOh14Ggk6dWpL4IGy9ylcF89aXjHQSmdSPHl12OINv0-GQ=s64",
      "userId": "11836196809260746093"
     },
     "user_tz": -330
    },
    "id": "jyt3SPMdcUTO"
   },
   "outputs": [],
   "source": [
    "from sklearn.model_selection import train_test_split\n",
    "xtrain,xtest,ytrain,ytest = train_test_split(x,y,test_size=0.33,random_state=1)"
   ]
  },
  {
   "cell_type": "code",
   "execution_count": null,
   "metadata": {
    "colab": {
     "base_uri": "https://localhost:8080/"
    },
    "executionInfo": {
     "elapsed": 28843,
     "status": "ok",
     "timestamp": 1639158266693,
     "user": {
      "displayName": "Ankit Patil",
      "photoUrl": "https://lh3.googleusercontent.com/a-/AOh14Ggk6dWpL4IGy9ylcF89aXjHQSmdSPHl12OINv0-GQ=s64",
      "userId": "11836196809260746093"
     },
     "user_tz": -330
    },
    "id": "qGlO7vL5cY4M",
    "outputId": "93a8e571-a20f-43d8-8ce1-ab1a3d2076da"
   },
   "outputs": [],
   "source": [
    "rf = RandomForestClassifier()\n",
    "rf.fit(xtrain,ytrain)\n",
    "ypred =rf.predict(xtest)\n",
    "print(classification_report(ytest,ypred))"
   ]
  },
  {
   "cell_type": "code",
   "execution_count": null,
   "metadata": {
    "executionInfo": {
     "elapsed": 568,
     "status": "ok",
     "timestamp": 1639158274863,
     "user": {
      "displayName": "Ankit Patil",
      "photoUrl": "https://lh3.googleusercontent.com/a-/AOh14Ggk6dWpL4IGy9ylcF89aXjHQSmdSPHl12OINv0-GQ=s64",
      "userId": "11836196809260746093"
     },
     "user_tz": -330
    },
    "id": "3ZfqdHYtccgx"
   },
   "outputs": [],
   "source": [
    "msg1 = df[df.label=='FAKE']['text'][1]\n",
    "msg2 = df[df.label=='REAL']['text'][4]\n"
   ]
  },
  {
   "cell_type": "code",
   "execution_count": null,
   "metadata": {
    "executionInfo": {
     "elapsed": 5,
     "status": "ok",
     "timestamp": 1639158270518,
     "user": {
      "displayName": "Ankit Patil",
      "photoUrl": "https://lh3.googleusercontent.com/a-/AOh14Ggk6dWpL4IGy9ylcF89aXjHQSmdSPHl12OINv0-GQ=s64",
      "userId": "11836196809260746093"
     },
     "user_tz": -330
    },
    "id": "txsnNo3Vci4d"
   },
   "outputs": [],
   "source": [
    "def checksentiment(text):\n",
    "  text = cleantext(text)\n",
    "  x = cv.transform([text]).toarray()\n",
    "  pred = rf.predict(x)\n",
    "  return pred[0]"
   ]
  },
  {
   "cell_type": "code",
   "execution_count": null,
   "metadata": {
    "id": "dN5K1iGecjFZ"
   },
   "outputs": [],
   "source": [
    "checksentiment(msg1)\n"
   ]
  },
  {
   "cell_type": "code",
   "execution_count": null,
   "metadata": {},
   "outputs": [],
   "source": []
  }
 ],
 "metadata": {
  "colab": {
   "authorship_tag": "ABX9TyMYRsaMcrCh+0NI8wVdEjtS",
   "name": "news_classification.ipynb",
   "provenance": []
  },
  "kernelspec": {
   "display_name": "Python 3",
   "language": "python",
   "name": "python3"
  },
  "language_info": {
   "codemirror_mode": {
    "name": "ipython",
    "version": 3
   },
   "file_extension": ".py",
   "mimetype": "text/x-python",
   "name": "python",
   "nbconvert_exporter": "python",
   "pygments_lexer": "ipython3",
   "version": "3.8.6"
  }
 },
 "nbformat": 4,
 "nbformat_minor": 1
}
